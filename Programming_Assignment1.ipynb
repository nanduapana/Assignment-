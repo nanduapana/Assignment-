{
 "cells": [
  {
   "cell_type": "markdown",
   "id": "d60965e4",
   "metadata": {},
   "source": [
    "### ----------------------------------- Programming Assignment_1 --------------------------------------\n",
    "#### Name: Nandkumar Patil\n",
    "#### Email Id: nandkumarpatil1694@gmail.com\n",
    "#### --------------------------------------------------------------------------------------------------------------------------------------"
   ]
  },
  {
   "cell_type": "markdown",
   "id": "46610b4b",
   "metadata": {},
   "source": [
    "##### 1. Write a Python program to print &quot;Hello Python&quot;?"
   ]
  },
  {
   "cell_type": "code",
   "execution_count": 2,
   "id": "f3d8edb5",
   "metadata": {},
   "outputs": [
    {
     "name": "stdout",
     "output_type": "stream",
     "text": [
      "Hello Python\n"
     ]
    }
   ],
   "source": [
    "print(\"Hello Python\")"
   ]
  },
  {
   "cell_type": "markdown",
   "id": "f93639a7",
   "metadata": {},
   "source": [
    "#### 2. Write a Python program to do arithmetical operations addition and division.?"
   ]
  },
  {
   "cell_type": "code",
   "execution_count": 5,
   "id": "80b1cd21",
   "metadata": {},
   "outputs": [
    {
     "name": "stdout",
     "output_type": "stream",
     "text": [
      "Enter the first number: 25\n",
      "Enter the second number: 5\n",
      "The sum is equal to 30.0\n",
      "The Quotient is equal to 5.0\n"
     ]
    }
   ],
   "source": [
    "N1 = float(input(\"Enter the first number: \"))\n",
    "N2 = float(input(\"Enter the second number: \"))\n",
    "\n",
    "# Addition of 2 numbers\n",
    "R_sum = N1 + N2\n",
    "\n",
    "#Division of 2 numbers\n",
    "R_div = N1/N2\n",
    "\n",
    "# Output of results\n",
    "print(\"The sum is equal to\", R_sum)\n",
    "print(\"The Quotient is equal to\", R_div)"
   ]
  },
  {
   "cell_type": "markdown",
   "id": "f3d788d0",
   "metadata": {},
   "source": [
    "#### 3. Write a Python program to find the area of a triangle?"
   ]
  },
  {
   "cell_type": "code",
   "execution_count": 8,
   "id": "ddf421d3",
   "metadata": {},
   "outputs": [
    {
     "name": "stdout",
     "output_type": "stream",
     "text": [
      "Enter base of triangle:20\n",
      "Enter height of the triangle6\n",
      "Area of tiangle: 60.0\n"
     ]
    }
   ],
   "source": [
    "# Area of the triangle is given by 2 methods \n",
    "# 1. Height and base given\n",
    "# 2. All sides are given\n",
    "\n",
    "# Method 1\n",
    "base = float(input(\"Enter base of triangle:\"))\n",
    "height=float(input(\"Enter height of the triangle\"))\n",
    "area1=0.5*base*height\n",
    "print(\"Area of tiangle:\", area1)"
   ]
  },
  {
   "cell_type": "code",
   "execution_count": 10,
   "id": "225a8905",
   "metadata": {},
   "outputs": [
    {
     "name": "stdout",
     "output_type": "stream",
     "text": [
      "Enter side1 of triangle:5\n",
      "Enter side2 of triangle:6\n",
      "Enter side3 of triangle:7\n",
      "Area of tiangle: 14.696938456699069\n"
     ]
    }
   ],
   "source": [
    "#Method 2\n",
    "import math\n",
    "s1 = float(input(\"Enter side1 of triangle:\"))\n",
    "s2 = float(input(\"Enter side2 of triangle:\"))\n",
    "s3 = float(input(\"Enter side3 of triangle:\"))\n",
    "sp=(s1+s2+s3)/2\n",
    "area2 = math.sqrt(sp*(sp-s1)*(sp-s2)*(sp-s3))\n",
    "print(\"Area of tiangle:\", area2)"
   ]
  },
  {
   "cell_type": "markdown",
   "id": "4b795f71",
   "metadata": {},
   "source": [
    "#### 4. Write a Python program to swap two variables?"
   ]
  },
  {
   "cell_type": "code",
   "execution_count": 13,
   "id": "9d425cc5",
   "metadata": {},
   "outputs": [
    {
     "name": "stdout",
     "output_type": "stream",
     "text": [
      "Enter first number:5\n",
      "Enter second number:8\n",
      "Swappped numbers n1 & n2 are: 8.0 5.0\n"
     ]
    }
   ],
   "source": [
    "n1 = float(input(\"Enter first number:\"))\n",
    "n2 = float(input(\"Enter second number:\"))\n",
    "n1=n1+n2\n",
    "n2=n1-n2\n",
    "n1=n1-n2\n",
    "print(\"Swappped numbers n1 & n2 are:\", n1, n2)"
   ]
  },
  {
   "cell_type": "markdown",
   "id": "9e8ec714",
   "metadata": {},
   "source": [
    "#### 5. Write a Python program to generate a random number?"
   ]
  },
  {
   "cell_type": "code",
   "execution_count": 14,
   "id": "6cb23bc9",
   "metadata": {},
   "outputs": [
    {
     "name": "stdout",
     "output_type": "stream",
     "text": [
      "Random number: 80\n"
     ]
    }
   ],
   "source": [
    "import random\n",
    "\n",
    "rn = random.randint(1, 100)\n",
    "print(\"Random number:\", rn)"
   ]
  },
  {
   "cell_type": "code",
   "execution_count": null,
   "id": "41f970c2",
   "metadata": {},
   "outputs": [],
   "source": []
  }
 ],
 "metadata": {
  "kernelspec": {
   "display_name": "Python 3 (ipykernel)",
   "language": "python",
   "name": "python3"
  },
  "language_info": {
   "codemirror_mode": {
    "name": "ipython",
    "version": 3
   },
   "file_extension": ".py",
   "mimetype": "text/x-python",
   "name": "python",
   "nbconvert_exporter": "python",
   "pygments_lexer": "ipython3",
   "version": "3.9.12"
  }
 },
 "nbformat": 4,
 "nbformat_minor": 5
}
