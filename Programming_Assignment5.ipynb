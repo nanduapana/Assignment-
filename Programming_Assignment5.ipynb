{
 "cells": [
  {
   "cell_type": "markdown",
   "id": "199777c9",
   "metadata": {},
   "source": [
    "### ----------------------------- Programming Assignment 5 -----------------------------------\n",
    "1. Write a Python Program to Find LCM?\n",
    "2. Write a Python Program to Find HCF?\n",
    "3. Write a Python Program to Convert Decimal to Binary, Octal and Hexadecimal?\n",
    "4. Write a Python Program To Find ASCII value of a character?\n",
    "5. Write a Python Program to Make a Simple Calculator with 4 basic mathematical operations?"
   ]
  },
  {
   "cell_type": "markdown",
   "id": "a2ba0b7a",
   "metadata": {},
   "source": [
    "#### 1. Write a Python Program to Find LCM?"
   ]
  },
  {
   "cell_type": "code",
   "execution_count": 4,
   "id": "21722039",
   "metadata": {},
   "outputs": [
    {
     "name": "stdout",
     "output_type": "stream",
     "text": [
      "Enter First Number:10\n",
      "Enter Second Number:20\n",
      "The LCM of 10 and 20 is 20\n"
     ]
    }
   ],
   "source": [
    "#Input from user\n",
    "n1=int(input(\"Enter First Number:\"))\n",
    "n2=int(input(\"Enter Second Number:\"))\n",
    "if n1 > n2:\n",
    "    z = n1\n",
    "else:\n",
    "    z = n2\n",
    "while True:\n",
    "    if (z%n1==0) and (z%n2==0):\n",
    "        lcm = z\n",
    "        break\n",
    "    z += 1\n",
    "\n",
    "print(\"The LCM of\", n1, \"and\", n2, \"is\", lcm)"
   ]
  },
  {
   "cell_type": "markdown",
   "id": "b05b4f2e",
   "metadata": {},
   "source": [
    "#### 2. Write a Python Program to Find HCF?"
   ]
  },
  {
   "cell_type": "code",
   "execution_count": 10,
   "id": "5735f5b4",
   "metadata": {},
   "outputs": [
    {
     "name": "stdout",
     "output_type": "stream",
     "text": [
      "Enter First Number:10\n",
      "Enter Second Number:16\n",
      "The HCF of 10 and 16 is 2\n"
     ]
    }
   ],
   "source": [
    "def prime_factors(n):\n",
    "    factors = []\n",
    "    divisor = 2\n",
    "    while n > 1:\n",
    "        while n % divisor == 0:\n",
    "            factors.append(divisor)\n",
    "            n //= divisor\n",
    "        divisor += 1\n",
    "    return factors\n",
    "#Input from user\n",
    "n1=int(input(\"Enter First Number:\"))\n",
    "n2=int(input(\"Enter Second Number:\"))\n",
    "#Factors \n",
    "factors_n1 = prime_factors(n1)\n",
    "factors_n2 = prime_factors(n2)\n",
    "common_factors = []\n",
    "for factor in factors_n1:\n",
    "    if factor in factors_n2:\n",
    "        common_factors.append(factor)\n",
    "        factors_n2.remove(factor)\n",
    "hcf = 1\n",
    "for factor in common_factors:\n",
    "    hcf *= factor\n",
    "\n",
    "print(\"The HCF of\", n1, \"and\", n2, \"is\", hcf)"
   ]
  },
  {
   "cell_type": "markdown",
   "id": "21eb52b9",
   "metadata": {},
   "source": [
    "#### 3. Write a Python Program to Convert Decimal to Binary, Octal and Hexadecimal?"
   ]
  },
  {
   "cell_type": "code",
   "execution_count": 11,
   "id": "66967904",
   "metadata": {},
   "outputs": [
    {
     "name": "stdout",
     "output_type": "stream",
     "text": [
      "Enter a decimal number: 16\n",
      "Binary representation: 0b10000\n",
      "Octal representation: 0o20\n",
      "Hexadecimal representation: 0x10\n"
     ]
    }
   ],
   "source": [
    "#Method1 Using direct use of the functions\n",
    "#Input from the user\n",
    "n1 = int(input(\"Enter a decimal number: \"))\n",
    "\n",
    "print(\"Binary representation:\", bin(n1))\n",
    "print(\"Octal representation:\", oct(n1))\n",
    "print(\"Hexadecimal representation:\", hex(n1))"
   ]
  },
  {
   "cell_type": "code",
   "execution_count": 12,
   "id": "6446b71b",
   "metadata": {},
   "outputs": [
    {
     "name": "stdout",
     "output_type": "stream",
     "text": [
      "Enter a decimal number: 16\n",
      "Binary: 10000\n",
      "Octal: 20\n",
      "Hexadecimal: 10\n"
     ]
    }
   ],
   "source": [
    "#Method2 Using direct use of the functions\n",
    "def decimal_to_binary(n):\n",
    "    b = \"\"\n",
    "    while n > 0:\n",
    "        b = str(n % 2) + b\n",
    "        n //= 2\n",
    "    return b\n",
    "\n",
    "def decimal_to_octal(n):\n",
    "    o = \"\"\n",
    "    while n > 0:\n",
    "        o = str(n % 8) + o\n",
    "        n //= 8\n",
    "    return o\n",
    "\n",
    "def decimal_to_hexadecimal(n):\n",
    "    h = \"\"\n",
    "    while n > 0:\n",
    "        r = n % 16\n",
    "        if r < 10:\n",
    "            h = str(r) + h\n",
    "        else:\n",
    "            h = chr(ord('A') + r - 10) + h\n",
    "        n //= 16\n",
    "    return h\n",
    "\n",
    "#Input from the user\n",
    "n1 = int(input(\"Enter a decimal number: \"))\n",
    "\n",
    "binary = decimal_to_binary(n1)\n",
    "octal = decimal_to_octal(n1)\n",
    "hexadecimal = decimal_to_hexadecimal(n1)\n",
    "\n",
    "print(\"Binary:\", binary)\n",
    "print(\"Octal:\", octal)\n",
    "print(\"Hexadecimal:\", hexadecimal)"
   ]
  },
  {
   "cell_type": "markdown",
   "id": "082b2598",
   "metadata": {},
   "source": [
    "#### 4. Write a Python Program To Find ASCII value of a character?"
   ]
  },
  {
   "cell_type": "code",
   "execution_count": 13,
   "id": "9279d351",
   "metadata": {},
   "outputs": [
    {
     "name": "stdout",
     "output_type": "stream",
     "text": [
      "Enter a character: 3\n",
      "The ASCII value of '3' is 51\n"
     ]
    }
   ],
   "source": [
    "C = input(\"Enter a character: \")\n",
    "ascii_value=ord(C)\n",
    "print(\"The ASCII value of '\" + C + \"' is\", ascii_value)"
   ]
  },
  {
   "cell_type": "markdown",
   "id": "ef6858d4",
   "metadata": {},
   "source": [
    "#### 5. Write a Python Program to Make a Simple Calculator with 4 basic mathematical operations?"
   ]
  },
  {
   "cell_type": "code",
   "execution_count": 15,
   "id": "29690e34",
   "metadata": {},
   "outputs": [
    {
     "name": "stdout",
     "output_type": "stream",
     "text": [
      "Select operation: 1. Add \n",
      " 2. Subtract \n",
      " 3. Multiply \n",
      " 4. Divide\n",
      "Enter Operation to be performed (1/2/3/4): 4\n",
      "Enter first number: 60\n",
      "Enter second number: 5\n",
      "Result: 12.0\n"
     ]
    }
   ],
   "source": [
    "def add(x, y):\n",
    "    return x + y\n",
    "\n",
    "def subtract(x, y):\n",
    "    return x - y\n",
    "\n",
    "def multiply(x, y):\n",
    "    return x * y\n",
    "\n",
    "def divide(x, y):\n",
    "    if y == 0:\n",
    "        return \"Infinity!\"\n",
    "    return x / y\n",
    "\n",
    "print(\"Select operation: 1. Add \\n 2. Subtract \\n 3. Multiply \\n 4. Divide\")\n",
    "#print(\"1. Add\")\n",
    "#print(\"2. Subtract\")\n",
    "#print(\"3. Multiply\")\n",
    "#print(\"4. Divide\")\n",
    "\n",
    "choice = input(\"Enter Operation to be performed (1/2/3/4): \")\n",
    "\n",
    "num1 = float(input(\"Enter first number: \"))\n",
    "num2 = float(input(\"Enter second number: \"))\n",
    "\n",
    "if choice == '1':\n",
    "    print(\"Result:\", add(num1, num2))\n",
    "elif choice == '2':\n",
    "    print(\"Result:\", subtract(num1, num2))\n",
    "elif choice == '3':\n",
    "    print(\"Result:\", multiply(num1, num2))\n",
    "elif choice == '4':\n",
    "    print(\"Result:\", divide(num1, num2))\n",
    "else:\n",
    "    print(\"Invalid input\")"
   ]
  },
  {
   "cell_type": "code",
   "execution_count": null,
   "id": "a00d1eb8",
   "metadata": {},
   "outputs": [],
   "source": []
  }
 ],
 "metadata": {
  "kernelspec": {
   "display_name": "Python 3 (ipykernel)",
   "language": "python",
   "name": "python3"
  },
  "language_info": {
   "codemirror_mode": {
    "name": "ipython",
    "version": 3
   },
   "file_extension": ".py",
   "mimetype": "text/x-python",
   "name": "python",
   "nbconvert_exporter": "python",
   "pygments_lexer": "ipython3",
   "version": "3.9.12"
  }
 },
 "nbformat": 4,
 "nbformat_minor": 5
}
