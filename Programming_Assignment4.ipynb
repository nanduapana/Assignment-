{
 "cells": [
  {
   "cell_type": "markdown",
   "id": "b1706aee",
   "metadata": {},
   "source": [
    "### ------------------------------------ Programming Assignment 4 -------------------------------------------\n",
    "1. Write a Python Program to Find the Factorial of a Number?\n",
    "2. Write a Python Program to Display the multiplication Table?\n",
    "3. Write a Python Program to Print the Fibonacci sequence?\n",
    "4. Write a Python Program to Check Armstrong Number?\n",
    "5. Write a Python Program to Find Armstrong Number in an Interval?\n",
    "6. Write a Python Program to Find the Sum of Natural Numbers?"
   ]
  },
  {
   "cell_type": "markdown",
   "id": "225f2668",
   "metadata": {},
   "source": [
    "#### 1. Write a Python Program to Find the Factorial of a Number?"
   ]
  },
  {
   "cell_type": "code",
   "execution_count": 8,
   "id": "25c31aaf",
   "metadata": {},
   "outputs": [
    {
     "name": "stdout",
     "output_type": "stream",
     "text": [
      "Enter number to find factorial:5\n",
      "Factorial of the given number: 120\n"
     ]
    }
   ],
   "source": [
    "#Method 1 using for loop\n",
    "#Take input from user\n",
    "n=int(input(\"Enter number to find factorial:\"))\n",
    "fact = 1\n",
    "for i in range(1, n + 1):\n",
    "    fact *= i #Factorial definition\n",
    "print(f\"Factorial of the given number: {fact}\")"
   ]
  },
  {
   "cell_type": "code",
   "execution_count": 14,
   "id": "627d67b3",
   "metadata": {},
   "outputs": [
    {
     "name": "stdout",
     "output_type": "stream",
     "text": [
      "Enter number to find factorial:5\n",
      "factorial of the given number is: 120\n"
     ]
    }
   ],
   "source": [
    "#Method 2 by using nested function or recursive function\n",
    "def factorial(n):\n",
    "    if n == 0:\n",
    "        return 1\n",
    "    else:\n",
    "        return n * factorial(n - 1)\n",
    "#Take input from user\n",
    "n=int(input(\"Enter number to find factorial:\"))\n",
    "print(f\"factorial of the given number is: {factorial (n)}\")"
   ]
  },
  {
   "cell_type": "markdown",
   "id": "d7efb4df",
   "metadata": {},
   "source": [
    "#### 2. Write a Python Program to Display the multiplication Table?"
   ]
  },
  {
   "cell_type": "code",
   "execution_count": 11,
   "id": "01a00b1b",
   "metadata": {},
   "outputs": [
    {
     "name": "stdout",
     "output_type": "stream",
     "text": [
      "Enter a number: 5\n",
      "5 x 1 = 5\n",
      "5 x 2 = 10\n",
      "5 x 3 = 15\n",
      "5 x 4 = 20\n",
      "5 x 5 = 25\n",
      "5 x 6 = 30\n",
      "5 x 7 = 35\n",
      "5 x 8 = 40\n",
      "5 x 9 = 45\n",
      "5 x 10 = 50\n"
     ]
    }
   ],
   "source": [
    "#take input from user\n",
    "n = int(input(\"Enter a number: \"))\n",
    "for i in range(1, 11):\n",
    "    print(f\"{n} x {i} = {n * i}\") #print multiplication table"
   ]
  },
  {
   "cell_type": "markdown",
   "id": "d330d50a",
   "metadata": {},
   "source": [
    "#### 3. Write a Python Program to Print the Fibonacci sequence?"
   ]
  },
  {
   "cell_type": "code",
   "execution_count": 17,
   "id": "7dced848",
   "metadata": {},
   "outputs": [
    {
     "name": "stdout",
     "output_type": "stream",
     "text": [
      "Enter a number: 5\n",
      "0\n",
      "1\n",
      "1\n",
      "2\n",
      "3\n"
     ]
    }
   ],
   "source": [
    "#Method 1 Using for loop\n",
    "#take input from user\n",
    "n = int(input(\"Enter a number: \"))\n",
    "a, b = 0, 1\n",
    "for i in range(n):\n",
    "    print(a)\n",
    "    a, b = b, a + b"
   ]
  },
  {
   "cell_type": "code",
   "execution_count": 2,
   "id": "cd3f3214",
   "metadata": {},
   "outputs": [
    {
     "name": "stdout",
     "output_type": "stream",
     "text": [
      "Enter the number of terms in the Fibonacci sequence: 5\n",
      "Fibonacci sequence:\n",
      "0 1 1 2 3 "
     ]
    }
   ],
   "source": [
    "#Method 2 using recursive function\n",
    "def fibonacci(n):\n",
    "    if n <= 1:\n",
    "        return n\n",
    "    else:\n",
    "        return fibonacci(n-1) + fibonacci(n-2)\n",
    "\n",
    "# Number of terms in the Fibonacci sequence to print\n",
    "n = int(input(\"Enter the number of terms in the Fibonacci sequence: \"))\n",
    "if n <= 0:\n",
    "    print(\"Please enter a positive integer.\")\n",
    "else:\n",
    "    print(\"Fibonacci sequence:\")\n",
    "    for i in range(n):\n",
    "        print(fibonacci(i), end=\" \")"
   ]
  },
  {
   "cell_type": "markdown",
   "id": "2a388571",
   "metadata": {},
   "source": [
    "#### 4. Write a Python Program to Check Armstrong Number?"
   ]
  },
  {
   "cell_type": "code",
   "execution_count": 4,
   "id": "f9d26852",
   "metadata": {},
   "outputs": [
    {
     "name": "stdout",
     "output_type": "stream",
     "text": [
      "Enter a number to check if it's an Armstrong number: 56\n",
      "56 is not an Armstrong number.\n"
     ]
    }
   ],
   "source": [
    "# Input number from the user to check\n",
    "n = int(input(\"Enter a number to check if it's an Armstrong number: \"))\n",
    "digits = len(str(n))\n",
    "sum_digits = sum(int(digit) ** digits for digit in str(n))\n",
    "# Check for armstrong number\n",
    "if sum_digits == n:\n",
    "    print(n, \"is an Armstrong number.\")\n",
    "else:\n",
    "    print(n, \"is not an Armstrong number.\")"
   ]
  },
  {
   "cell_type": "markdown",
   "id": "58eb786c",
   "metadata": {},
   "source": [
    "#### 5. Write a Python Program to Find Armstrong Number in an Interval?"
   ]
  },
  {
   "cell_type": "code",
   "execution_count": 6,
   "id": "f6914003",
   "metadata": {},
   "outputs": [
    {
     "name": "stdout",
     "output_type": "stream",
     "text": [
      "Enter the start of the interval: 5\n",
      "Enter the end of the interval: 60\n",
      "Armstrong numbers between 5 and 60 are:\n",
      "[5, 6, 7, 8, 9]\n"
     ]
    }
   ],
   "source": [
    "# Input from the user\n",
    "start = int(input(\"Enter the start of the interval: \"))\n",
    "end = int(input(\"Enter the end of the interval: \"))\n",
    "an=[] #empty list of numbers\n",
    "for n in range(start, end + 1):\n",
    "    digits = len(str(n))\n",
    "    sum_digits = sum(int(digit) ** digits for digit in str(n))\n",
    "    # Check for armstrong number\n",
    "    if sum_digits == n:\n",
    "        an.append(n)\n",
    "print(\"Armstrong numbers between\", start, \"and\", end, \"are:\")\n",
    "print(an)"
   ]
  },
  {
   "cell_type": "markdown",
   "id": "a7668459",
   "metadata": {},
   "source": [
    "#### 6. Write a Python Program to Find the Sum of Natural Numbers?"
   ]
  },
  {
   "cell_type": "code",
   "execution_count": 7,
   "id": "d3be55fa",
   "metadata": {},
   "outputs": [
    {
     "name": "stdout",
     "output_type": "stream",
     "text": [
      "Enter a positive integer: 10\n",
      "The sum of natural numbers up to 10 is: 55\n"
     ]
    }
   ],
   "source": [
    "def sum_of_natural_numbers(n):\n",
    "    if n < 0:\n",
    "        return \"Please enter a positive integer.\"\n",
    "    else:\n",
    "        return (n * (n + 1)) // 2\n",
    "\n",
    "# Input from  user\n",
    "n = int(input(\"Enter a positive integer: \"))\n",
    "\n",
    "print(\"The sum of natural numbers up to\", n, \"is:\", sum_of_natural_numbers(n))"
   ]
  },
  {
   "cell_type": "code",
   "execution_count": null,
   "id": "bf7dc343",
   "metadata": {},
   "outputs": [],
   "source": []
  }
 ],
 "metadata": {
  "kernelspec": {
   "display_name": "Python 3 (ipykernel)",
   "language": "python",
   "name": "python3"
  },
  "language_info": {
   "codemirror_mode": {
    "name": "ipython",
    "version": 3
   },
   "file_extension": ".py",
   "mimetype": "text/x-python",
   "name": "python",
   "nbconvert_exporter": "python",
   "pygments_lexer": "ipython3",
   "version": "3.9.12"
  }
 },
 "nbformat": 4,
 "nbformat_minor": 5
}
