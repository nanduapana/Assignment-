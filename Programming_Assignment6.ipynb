{
 "cells": [
  {
   "cell_type": "markdown",
   "id": "fbc59aae",
   "metadata": {},
   "source": [
    "### --------------------------------- Programming Assignment 6 -----------------------------------\n",
    "1. Write a Python Program to Display Fibonacci Sequence Using Recursion?\n",
    "2. Write a Python Program to Find Factorial of Number Using Recursion?\n",
    "3. Write a Python Program to calculate your Body Mass Index?\n",
    "4. Write a Python Program to calculate the natural logarithm of any number?\n",
    "5. Write a Python Program for cube sum of first n natural numbers?"
   ]
  },
  {
   "cell_type": "markdown",
   "id": "27cd4391",
   "metadata": {},
   "source": [
    "#### 1. Write a Python Program to Display Fibonacci Sequence Using Recursion?"
   ]
  },
  {
   "cell_type": "code",
   "execution_count": 1,
   "id": "772b649f",
   "metadata": {},
   "outputs": [
    {
     "name": "stdout",
     "output_type": "stream",
     "text": [
      "Enter the number of terms in the Fibonacci sequence: 5\n",
      "Fibonacci sequence:\n",
      "0 1 1 2 3 "
     ]
    }
   ],
   "source": [
    "def fibonacci(n):\n",
    "    if n <= 1:\n",
    "        return n\n",
    "    else:\n",
    "        return fibonacci(n-1) + fibonacci(n-2)\n",
    "\n",
    "# Number of terms in the Fibonacci sequence to print\n",
    "n = int(input(\"Enter the number of terms in the Fibonacci sequence: \"))\n",
    "if n <= 0:\n",
    "    print(\"Please enter a positive integer.\")\n",
    "else:\n",
    "    print(\"Fibonacci sequence:\")\n",
    "    for i in range(n):\n",
    "        print(fibonacci(i), end=\" \")"
   ]
  },
  {
   "cell_type": "markdown",
   "id": "94b71796",
   "metadata": {},
   "source": [
    "#### 2. Write a Python Program to Find Factorial of Number Using Recursion?"
   ]
  },
  {
   "cell_type": "code",
   "execution_count": 2,
   "id": "08c65fa7",
   "metadata": {},
   "outputs": [
    {
     "name": "stdout",
     "output_type": "stream",
     "text": [
      "Enter number to find factorial:6\n",
      "factorial of the given number is: 720\n"
     ]
    }
   ],
   "source": [
    "def factorial(n):\n",
    "    if n == 0:\n",
    "        return 1\n",
    "    else:\n",
    "        return n * factorial(n - 1)\n",
    "#Take input from user\n",
    "n=int(input(\"Enter number to find factorial:\"))\n",
    "print(f\"factorial of the given number is: {factorial (n)}\")"
   ]
  },
  {
   "cell_type": "markdown",
   "id": "0cbf60a2",
   "metadata": {},
   "source": [
    "#### 3. Write a Python Program to calculate your Body Mass Index?"
   ]
  },
  {
   "cell_type": "code",
   "execution_count": 3,
   "id": "2cd5b4e5",
   "metadata": {},
   "outputs": [
    {
     "name": "stdout",
     "output_type": "stream",
     "text": [
      "Enter your weight in kilograms: 56\n",
      "Enter your height in meters: 1.68\n",
      "Your Body Mass Index (BMI) is: 19.841269841269845\n"
     ]
    }
   ],
   "source": [
    "def bmi(weight, height):\n",
    "    return weight / (height**2)\n",
    "\n",
    "weight = float(input(\"Enter your weight in kilograms: \"))\n",
    "height = float(input(\"Enter your height in meters: \"))\n",
    "\n",
    "bmi = bmi(weight, height)\n",
    "print(\"Your Body Mass Index (BMI) is:\", bmi)"
   ]
  },
  {
   "cell_type": "markdown",
   "id": "d4133bd0",
   "metadata": {},
   "source": [
    "#### 4. Write a Python Program to calculate the natural logarithm of any number?"
   ]
  },
  {
   "cell_type": "code",
   "execution_count": 11,
   "id": "f4740f7e",
   "metadata": {},
   "outputs": [
    {
     "name": "stdout",
     "output_type": "stream",
     "text": [
      "Enter a number to calculate its natural logarithm: 5\n",
      "Enter the number of terms in the Taylor series expansion: 20\n",
      "Natural logarithm of 5.0 using 20 terms in Taylor series is: -43527454611.89873\n"
     ]
    }
   ],
   "source": [
    "def nl_function(x, nt):\n",
    "    if x <= 0:\n",
    "        return \"Invalid input: x must be greater than 0\"\n",
    "\n",
    "    # Calculate the natural logarithm using the Taylor series formula\n",
    "    result = 0\n",
    "    for n in range(1, nt + 1):\n",
    "        result += (((-1) ** (n - 1)) * ((x-1) ** n) / n)\n",
    "    return result\n",
    "\n",
    "# Input the number and number of terms in the Taylor series expansion from the user\n",
    "num = float(input(\"Enter a number to calculate its natural logarithm: \"))\n",
    "terms = int(input(\"Enter the number of terms in the Taylor series expansion: \"))\n",
    "\n",
    "# Calculate and print the natural logarithm using the Taylor series formula\n",
    "print(\"Natural logarithm of\", num, \"using\", terms, \"terms in Taylor series is:\", nl_function(num, terms))"
   ]
  },
  {
   "cell_type": "code",
   "execution_count": 12,
   "id": "7ea9229f",
   "metadata": {},
   "outputs": [
    {
     "name": "stdout",
     "output_type": "stream",
     "text": [
      "Enter a number: 5\n",
      "Natural logarithm of 5.0 is 1.6094379124341003\n"
     ]
    }
   ],
   "source": [
    "import math\n",
    "\n",
    "number = float(input(\"Enter a number: \"))\n",
    "logarithm = math.log(number)\n",
    "\n",
    "print(\"Natural logarithm of\", number, \"is\", logarithm)"
   ]
  },
  {
   "cell_type": "markdown",
   "id": "14ed1ec5",
   "metadata": {},
   "source": [
    "#### 5. Write a Python Program for cube sum of first n natural numbers?"
   ]
  },
  {
   "cell_type": "code",
   "execution_count": 13,
   "id": "f3c2ca78",
   "metadata": {},
   "outputs": [
    {
     "name": "stdout",
     "output_type": "stream",
     "text": [
      "Enter the value of n: 5\n",
      "Cube sum of first 5 natural numbers is: 225\n"
     ]
    }
   ],
   "source": [
    "n = int(input(\"Enter the value of n: \"))\n",
    "result = (n * (n + 1) // 2) ** 2\n",
    "print(\"Cube sum of first\", n, \"natural numbers is:\", result)"
   ]
  },
  {
   "cell_type": "code",
   "execution_count": null,
   "id": "b1562864",
   "metadata": {},
   "outputs": [],
   "source": []
  }
 ],
 "metadata": {
  "kernelspec": {
   "display_name": "Python 3 (ipykernel)",
   "language": "python",
   "name": "python3"
  },
  "language_info": {
   "codemirror_mode": {
    "name": "ipython",
    "version": 3
   },
   "file_extension": ".py",
   "mimetype": "text/x-python",
   "name": "python",
   "nbconvert_exporter": "python",
   "pygments_lexer": "ipython3",
   "version": "3.9.12"
  }
 },
 "nbformat": 4,
 "nbformat_minor": 5
}
